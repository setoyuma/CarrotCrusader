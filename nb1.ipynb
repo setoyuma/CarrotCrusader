{
 "cells": [
  {
   "attachments": {},
   "cell_type": "markdown",
   "metadata": {},
   "source": [
    "***Lambda Functions***"
   ]
  },
  {
   "cell_type": "code",
   "execution_count": 87,
   "metadata": {},
   "outputs": [],
   "source": [
    "addOne = lambda x: x+1"
   ]
  },
  {
   "cell_type": "code",
   "execution_count": 88,
   "metadata": {
    "tags": []
   },
   "outputs": [
    {
     "name": "stdout",
     "output_type": "stream",
     "text": [
      "Result: 10\n"
     ]
    }
   ],
   "source": [
    "print(f\"Result: {addOne(9)}\")"
   ]
  },
  {
   "attachments": {},
   "cell_type": "markdown",
   "metadata": {
    "tags": []
   },
   "source": [
    "***Inheritance***"
   ]
  },
  {
   "cell_type": "code",
   "execution_count": 1,
   "metadata": {},
   "outputs": [],
   "source": [
    "class Person:\n",
    "    def __init__(self) -> None:\n",
    "        self.firstName = 'seto'\n",
    "        self.lastName = 'yuma'\n",
    "        # self.x,self.y = fname,lname\n",
    "\n",
    "    def printName(self)->str:\n",
    "        print(self.firstName,self.lastName)\n",
    "        # return self.firstName,self.lastName"
   ]
  },
  {
   "cell_type": "code",
   "execution_count": 10,
   "metadata": {},
   "outputs": [],
   "source": [
    "class Student(Person):\n",
    "    def __init__(self) -> None:\n",
    "        Person.__init__(self)\n",
    "\n",
    "    def sayName(self):\n",
    "        self.printName()"
   ]
  },
  {
   "cell_type": "code",
   "execution_count": 11,
   "metadata": {},
   "outputs": [
    {
     "name": "stdout",
     "output_type": "stream",
     "text": [
      "seto yuma\n"
     ]
    }
   ],
   "source": [
    "x = Student()\n",
    "x.sayName()\n",
    "\n",
    "# print(x.x),print(x.y)"
   ]
  }
 ],
 "metadata": {
  "kernelspec": {
   "display_name": "gameVenv",
   "language": "python",
   "name": "python3"
  },
  "language_info": {
   "codemirror_mode": {
    "name": "ipython",
    "version": 3
   },
   "file_extension": ".py",
   "mimetype": "text/x-python",
   "name": "python",
   "nbconvert_exporter": "python",
   "pygments_lexer": "ipython3",
   "version": "3.10.9"
  },
  "orig_nbformat": 4,
  "vscode": {
   "interpreter": {
    "hash": "924017bd4913a314d2980b3e3b5bc39f186d045e102c41a42e1aea415ad6c6d9"
   }
  }
 },
 "nbformat": 4,
 "nbformat_minor": 2
}
